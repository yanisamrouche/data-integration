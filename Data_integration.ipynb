{
  "nbformat": 4,
  "nbformat_minor": 0,
  "metadata": {
    "colab": {
      "name": "Data_integration.ipynb",
      "provenance": [],
      "collapsed_sections": [],
      "authorship_tag": "ABX9TyNjuWesGdW6azkMYQTFvT1s",
      "include_colab_link": true
    },
    "kernelspec": {
      "name": "python3",
      "display_name": "Python 3"
    },
    "language_info": {
      "name": "python"
    }
  },
  "cells": [
    {
      "cell_type": "markdown",
      "metadata": {
        "id": "view-in-github",
        "colab_type": "text"
      },
      "source": [
        "<a href=\"https://colab.research.google.com/github/yanisamrouche/data-integration/blob/main/Data_integration.ipynb\" target=\"_parent\"><img src=\"https://colab.research.google.com/assets/colab-badge.svg\" alt=\"Open In Colab\"/></a>"
      ]
    },
    {
      "cell_type": "code",
      "execution_count": null,
      "metadata": {
        "id": "JpHayh4ozOs4"
      },
      "outputs": [],
      "source": [
        "def read_File ( fileName ) :\n",
        "  lignes = \" \"\n",
        "  try:\n",
        "    f = open(fileName , 'r')\n",
        "    lignes = f.readlines()\n",
        "    f.close()\n",
        "  except FileNotFoundError :\n",
        "    print ( \"Wrong␣ f i l e ␣ o r ␣ f i l e ␣ path \" )\n",
        "  return lignes\n",
        "read_File(\"vacsi-tot-v-fra-2022-01-12-19h06.csv\")"
      ]
    },
    {
      "cell_type": "code",
      "source": [
        "import pandas as pd\n",
        "df = pd.read_csv(\"vacsi-tot-v-fra-2022-01-12-19h06.csv\", sep=\";\")\n",
        "df.describe()\n",
        "#print(df)\n",
        "\n",
        "columns = df.columns.values\n",
        "#print(columns)\n",
        "\n",
        "data = df.to_numpy()\n",
        "#print(data)\n",
        "#print(data[:,0])"
      ],
      "metadata": {
        "colab": {
          "base_uri": "https://localhost:8080/"
        },
        "id": "WCDN0iKoAUXD",
        "outputId": "57f9c977-61c3-41cd-82cb-2df0a47f7261"
      },
      "execution_count": 32,
      "outputs": [
        {
          "output_type": "stream",
          "name": "stdout",
          "text": [
            " (1, 2022-01-11, 41770378, 39536762, 18906812, 51622, 20458435), (2, 2022-01-11, 5973250, 6256090, 7514407, 21171, 8427837), (3, 2022-01-11, 4405047, 3431029, 4165, 2, 2890), (4, 2022-01-11, 1067888, 5059, 685, 4, 2455), (0, 2022-01-11, 53216563, 49228940, 26426069, 72799, 28891617);\n"
          ]
        }
      ]
    },
    {
      "cell_type": "code",
      "source": [
        "#Les requete SQL\n",
        "sqlQueryCreate = \"\"\n",
        "sqlQueryCreate += \"CREATE TABLE vaccin\"\n",
        "sqlQueryCreate += \" (\"+columns[1]+\" INT PRIMARY KEY NOT NULL, \"+columns[2]+\" VARCHAR(100), \"+columns[3]+\" VARCHAR(100), \"+columns[4]+\" VARCHAR(100), \"+columns[5]+\" VARCHAR(100), \"+columns[6]+\" VARCHAR(100), \"+columns[7]+\" VARCHAR(100));\"\n",
        "sqlQueryInsert = \"\"\n",
        "sqlQueryInsert += \"INSERT INTO vaccin (vaccin, jour, n_tot_dose1, n_tot_dose2, n_tot_dose3, n_tot_dose4, n_tot_rappel)\"\n",
        "sqlQueryInsert += \" VALUES\"\n",
        "for i in range(len(df)):\n",
        "  if(not(i ==len(df)-1)):\n",
        "    sqlQueryInsert += \" (\"+str(df.loc[i,columns[1]])+\", \"+str(df.loc[i,columns[2]])+\", \"+str(df.loc[i,columns[3]])+\", \"+str(df.loc[i,columns[4]])+\", \"+str(df.loc[i,columns[5]])+\", \"+str(df.loc[i,columns[6]])+\", \"+str(df.loc[i,columns[7]])+\"),\"\n",
        "  else:\n",
        "    sqlQueryInsert += \" (\"+str(df.loc[i,columns[1]])+\", \"+str(df.loc[i,columns[2]])+\", \"+str(df.loc[i,columns[3]])+\", \"+str(df.loc[i,columns[4]])+\", \"+str(df.loc[i,columns[5]])+\", \"+str(df.loc[i,columns[6]])+\", \"+str(df.loc[i,columns[7]])+\");\"\n",
        "print(sqlQueryCreate,\"\\n\",sqlQueryInsert)"
      ],
      "metadata": {
        "colab": {
          "base_uri": "https://localhost:8080/"
        },
        "id": "y44gUnjGMaK3",
        "outputId": "1d96f847-03d0-4abb-cae3-4acdc17e2b16"
      },
      "execution_count": 40,
      "outputs": [
        {
          "output_type": "stream",
          "name": "stdout",
          "text": [
            "CREATE TABLE vaccin (vaccin INT PRIMARY KEY NOT NULL, jour VARCHAR(100), n_tot_dose1 VARCHAR(100), n_tot_dose2 VARCHAR(100), n_tot_dose3 VARCHAR(100), n_tot_dose4 VARCHAR(100), n_tot_rappel VARCHAR(100)); \n",
            " INSERT INTO vaccin (vaccin, jour, n_tot_dose1, n_tot_dose2, n_tot_dose3, n_tot_dose4, n_tot_rappel) VALUES (1, 2022-01-11, 41770378, 39536762, 18906812, 51622, 20458435), (2, 2022-01-11, 5973250, 6256090, 7514407, 21171, 8427837), (3, 2022-01-11, 4405047, 3431029, 4165, 2, 2890), (4, 2022-01-11, 1067888, 5059, 685, 4, 2455), (0, 2022-01-11, 53216563, 49228940, 26426069, 72799, 28891617);\n"
          ]
        }
      ]
    },
    {
      "cell_type": "code",
      "source": [
        "import sqlite3 as sql\n",
        "connexion = sql.connect('VaccinDB.db')"
      ],
      "metadata": {
        "id": "YrY64jt4V7V1"
      },
      "execution_count": 46,
      "outputs": []
    },
    {
      "cell_type": "code",
      "source": [
        "curseur = connexion.cursor()\n"
      ],
      "metadata": {
        "id": "5yrIeZ1-YLKo"
      },
      "execution_count": 51,
      "outputs": []
    },
    {
      "cell_type": "code",
      "source": [
        "curseur.execute(sqlQueryCreate)"
      ],
      "metadata": {
        "colab": {
          "base_uri": "https://localhost:8080/"
        },
        "id": "6mazrIcFYVBS",
        "outputId": "c609ba90-e0b4-41ad-ce0d-dc4e8ee41f32"
      },
      "execution_count": 52,
      "outputs": [
        {
          "output_type": "execute_result",
          "data": {
            "text/plain": [
              "<sqlite3.Cursor at 0x7fafac72fea0>"
            ]
          },
          "metadata": {},
          "execution_count": 52
        }
      ]
    },
    {
      "cell_type": "code",
      "source": [
        "curseur.execute(sqlQueryInsert)"
      ],
      "metadata": {
        "colab": {
          "base_uri": "https://localhost:8080/"
        },
        "id": "dB_8mbujY96K",
        "outputId": "702469ed-f3a2-45e7-b8da-7e20e4bf22bc"
      },
      "execution_count": 53,
      "outputs": [
        {
          "output_type": "execute_result",
          "data": {
            "text/plain": [
              "<sqlite3.Cursor at 0x7fafac72fea0>"
            ]
          },
          "metadata": {},
          "execution_count": 53
        }
      ]
    },
    {
      "cell_type": "code",
      "source": [
        "curseur.execute(\"SELECT * FROM vaccin\")\n",
        "resultat = curseur.fetchall()\n",
        "print(resultat)"
      ],
      "metadata": {
        "colab": {
          "base_uri": "https://localhost:8080/"
        },
        "id": "jLfoe3iwZS6f",
        "outputId": "9cca8c8f-e1db-481c-c0dc-c0546d87cdfe"
      },
      "execution_count": 55,
      "outputs": [
        {
          "output_type": "stream",
          "name": "stdout",
          "text": [
            "[(1, '2010', '41770378', '39536762', '18906812', '51622', '20458435'), (2, '2010', '5973250', '6256090', '7514407', '21171', '8427837'), (3, '2010', '4405047', '3431029', '4165', '2', '2890'), (4, '2010', '1067888', '5059', '685', '4', '2455'), (0, '2010', '53216563', '49228940', '26426069', '72799', '28891617')]\n"
          ]
        }
      ]
    },
    {
      "cell_type": "code",
      "source": [
        "connexion.commit()"
      ],
      "metadata": {
        "id": "y_MNjGhNZFj-"
      },
      "execution_count": 56,
      "outputs": []
    },
    {
      "cell_type": "code",
      "source": [
        "connexion.close()"
      ],
      "metadata": {
        "id": "bWj4I3-LZKwt"
      },
      "execution_count": 57,
      "outputs": []
    }
  ]
}